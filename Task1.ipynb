{
 "cells": [
  {
   "cell_type": "markdown",
   "id": "e4181831",
   "metadata": {},
   "source": [
    "# Building a model that predicts whether a passanger on Titanic survived or not"
   ]
  },
  {
   "cell_type": "code",
   "execution_count": 38,
   "id": "7643d932",
   "metadata": {},
   "outputs": [],
   "source": [
    "#Importing all the libraries\n",
    "import numpy as np\n",
    "import pandas as pd\n",
    "import statsmodels.api as sm\n",
    "import matplotlib.pyplot as plt\n",
    "import seaborn as sns\n",
    "sns.set()\n",
    "%matplotlib inline\n",
    "import math\n",
    "import sklearn\n",
    "from sklearn.metrics import classification_report\n",
    "from sklearn.metrics import confusion_matrix\n",
    "from sklearn.metrics import accuracy_score\n",
    "from sklearn import model_selection \n",
    "from sklearn.linear_model import LogisticRegression\n"
   ]
  },
  {
   "cell_type": "markdown",
   "id": "afc92c8d",
   "metadata": {},
   "source": [
    "# Importing the data set\n"
   ]
  },
  {
   "cell_type": "code",
   "execution_count": null,
   "id": "505e7065",
   "metadata": {},
   "outputs": [],
   "source": [
    "data=pd.read_csv('tested.csv')\n",
    "data.info()"
   ]
  },
  {
   "cell_type": "markdown",
   "id": "f09af213",
   "metadata": {},
   "source": [
    "# The tested data set has 418 entries and 12 features. I am listing out the features with short description"
   ]
  },
  {
   "cell_type": "raw",
   "id": "0697604b",
   "metadata": {},
   "source": [
    "Survived: Survival\n",
    "Pclass: Ticket\n",
    "PassengerID: ID \n",
    "Sex: Gender\n",
    "Age: Age in years\n",
    "SibSp: Siblings or Spouses \n",
    "Parch: Parents or children\n",
    "Ticket: Ticket \n",
    "Fare: Passanger \n",
    "Cabin: CabinNumber\n",
    "Embarked:  PortofEmbarkation"
   ]
  },
  {
   "cell_type": "code",
   "execution_count": null,
   "id": "87865c72",
   "metadata": {
    "scrolled": true
   },
   "outputs": [],
   "source": [
    "data.describe()"
   ]
  },
  {
   "cell_type": "code",
   "execution_count": null,
   "id": "58ede702",
   "metadata": {},
   "outputs": [],
   "source": [
    "data.isnull().sum()"
   ]
  },
  {
   "cell_type": "code",
   "execution_count": null,
   "id": "41ede2ce",
   "metadata": {},
   "outputs": [],
   "source": [
    "data['Age'].fillna(data['Age'].mean(),inplace=True)\n",
    "data"
   ]
  },
  {
   "cell_type": "code",
   "execution_count": null,
   "id": "c7d8efe4",
   "metadata": {},
   "outputs": [],
   "source": [
    "data.head(8)"
   ]
  },
  {
   "cell_type": "code",
   "execution_count": null,
   "id": "2e651806",
   "metadata": {},
   "outputs": [],
   "source": [
    "data.columns.values"
   ]
  },
  {
   "cell_type": "code",
   "execution_count": null,
   "id": "f269e29b",
   "metadata": {},
   "outputs": [],
   "source": [
    "#lets find out the features which could contribute to a high survial rate\n",
    "# 1. Age and Sex\n",
    "data.groupby('Survived').size()"
   ]
  },
  {
   "cell_type": "code",
   "execution_count": null,
   "id": "4fe3cacd",
   "metadata": {},
   "outputs": [],
   "source": [
    "sns.countplot(x='Survived',data=data)\n",
    "plt.xticks([0,1],['Not Survived','Survived'])\n",
    "plt.show()"
   ]
  },
  {
   "cell_type": "code",
   "execution_count": null,
   "id": "f4c1ba5c",
   "metadata": {},
   "outputs": [],
   "source": [
    "data.groupby('Sex').size()"
   ]
  },
  {
   "cell_type": "code",
   "execution_count": null,
   "id": "b16e9f8c",
   "metadata": {},
   "outputs": [],
   "source": [
    "sns.countplot(x='Sex',data=data)\n",
    "plt.xticks([0,1],['Male','Female'])\n",
    "plt.show()"
   ]
  },
  {
   "cell_type": "code",
   "execution_count": null,
   "id": "7ccbbc3d",
   "metadata": {},
   "outputs": [],
   "source": [
    "data['Age'].hist()"
   ]
  },
  {
   "cell_type": "markdown",
   "id": "daf4cc9b",
   "metadata": {},
   "source": [
    "# Pclass "
   ]
  },
  {
   "cell_type": "code",
   "execution_count": null,
   "id": "64a2e941",
   "metadata": {},
   "outputs": [],
   "source": [
    "sns.barplot(x='Pclass',y='Survived',data=data)"
   ]
  },
  {
   "cell_type": "code",
   "execution_count": null,
   "id": "6384fb30",
   "metadata": {},
   "outputs": [],
   "source": [
    "grid=sns.FacetGrid(data,col='Survived',row='Pclass')\n",
    "grid.map(plt.hist,'Age',alpha=0.5,bins=20)\n",
    "grid.add_legend()"
   ]
  },
  {
   "cell_type": "markdown",
   "id": "b74f3bc7",
   "metadata": {},
   "source": [
    "# SibSp and Parch\n",
    "Finding out if someone is alone or not"
   ]
  },
  {
   "cell_type": "code",
   "execution_count": null,
   "id": "8b78f744",
   "metadata": {},
   "outputs": [],
   "source": [
    "data['relatives']=data['SibSp']+data['Parch']\n",
    "data.loc[data['relatives']>0,'not_alone']=0\n",
    "data.loc[data['relatives']==0,'not_alone']=1\n",
    "data['not_alone']=data['not_alone'].astype(int)\n",
    "data['not_alone'].value_counts()"
   ]
  },
  {
   "cell_type": "code",
   "execution_count": null,
   "id": "e1eb630b",
   "metadata": {},
   "outputs": [],
   "source": [
    "axes=sns.pointplot(x='relatives',y='Survived', data=data)"
   ]
  },
  {
   "cell_type": "markdown",
   "id": "01b43df8",
   "metadata": {},
   "source": [
    "# Data Preprocessing\n",
    "Missing Data \n",
    "(Extracting the data and creating a new feature into numeric variable. The missing values will be converted to zero)"
   ]
  },
  {
   "cell_type": "code",
   "execution_count": null,
   "id": "9781722a",
   "metadata": {},
   "outputs": [],
   "source": [
    "import re\n",
    "deck={'A':1,\"B\":2,'C':3,'D':4,'E':5,'F':6,'G':7,'H':8}\n",
    "data['Cabin']=data['Cabin'].fillna('U1')\n",
    "data['Deck']=data['Cabin'].map(lambda x: re.compile(\"([a-zA-Z]+)\").search(x).group())\n",
    "data['Deck']=data['Deck'].map(deck)\n",
    "data['Deck']=data['Deck'].fillna(0)\n",
    "data['Deck']=data['Deck'].astype(int)\n",
    "\n",
    "#Dropping the cabin feature\n",
    "data=data.drop(['Cabin'],axis=1)\n",
    "data\n"
   ]
  },
  {
   "cell_type": "code",
   "execution_count": null,
   "id": "b7024c6a",
   "metadata": {},
   "outputs": [],
   "source": [
    "data.info()"
   ]
  },
  {
   "cell_type": "markdown",
   "id": "a34fbc3c",
   "metadata": {},
   "source": [
    "# Converting Fare from float to int64"
   ]
  },
  {
   "cell_type": "code",
   "execution_count": null,
   "id": "03bc3a64",
   "metadata": {},
   "outputs": [],
   "source": [
    "data['Fare']=data['Fare'].fillna(0)\n",
    "data['Fare']=data['Fare'].astype(int)\n",
    "data"
   ]
  },
  {
   "cell_type": "markdown",
   "id": "dfea4d29",
   "metadata": {},
   "source": [
    "# Extracting the names of the passengers and dropping them "
   ]
  },
  {
   "cell_type": "code",
   "execution_count": null,
   "id": "b4e4aec9",
   "metadata": {},
   "outputs": [],
   "source": [
    "titles={'Mr':1,'Mrs':2,'Miss':3,'Master':4,'Rare':5}\n",
    "data['Title']=data.Name.str.extract('([A-Za-z]+)\\.',expand=False)\n",
    "data['Title']=data['Title'].replace(['Lady','Countness','Capt','Col','Don','Dr','Major','Rev','Sir','Jonkheer','Dona'],'Rare')\n",
    "data['Title']=data['Title'].replace('Mlle','Miss')\n",
    "data['Title']=data['Title'].replace('Ms','Miss')\n",
    "data['Title']=data['Title'].replace('Mme','Mrs')\n",
    "data['Title']=data['Title'].map(titles)\n",
    "#filling NaN with 0\n",
    "data['Title']=data['Title'].fillna(0)\n",
    "#drop the missing the values\n",
    "data=data.drop(['Name'],axis=1)\n",
    "data\n",
    "\n"
   ]
  },
  {
   "cell_type": "markdown",
   "id": "38e236db",
   "metadata": {},
   "source": [
    "# Converting the sex feature into numeric"
   ]
  },
  {
   "cell_type": "code",
   "execution_count": null,
   "id": "68e2de9a",
   "metadata": {},
   "outputs": [],
   "source": [
    "gender={'male':0,'female':1}\n",
    "data['Sex']=data['Sex'].map(gender)\n",
    "data"
   ]
  },
  {
   "cell_type": "code",
   "execution_count": null,
   "id": "58025d1a",
   "metadata": {},
   "outputs": [],
   "source": [
    "data['Ticket'].describe()"
   ]
  },
  {
   "cell_type": "code",
   "execution_count": null,
   "id": "b5e3ef72",
   "metadata": {},
   "outputs": [],
   "source": [
    "#As 363 are unique tickets I will drop out the ticket category from the dataset\n",
    "data=data.drop(['Ticket'],axis=1)\n",
    "data"
   ]
  },
  {
   "cell_type": "markdown",
   "id": "00eeabef",
   "metadata": {},
   "source": [
    "# Creating categories\n",
    "For Age and Fare"
   ]
  },
  {
   "cell_type": "code",
   "execution_count": null,
   "id": "0dc62c51",
   "metadata": {},
   "outputs": [],
   "source": [
    "#Converting the age feature to int from float\n",
    "data['Age']=data['Age'].astype(int)\n",
    "data.loc[data['Age']<=11,'Age']=0\n",
    "data.loc[(data['Age']>11) & (data['Age']<=20),'Age']=1\n",
    "data.loc[(data['Age']>20) & (data['Age']<=25),'Age']=2\n",
    "data.loc[(data['Age']>25) & (data['Age']<=30),'Age']=3\n",
    "data.loc[(data['Age']>30) & (data['Age']<=40),'Age']=4\n",
    "data.loc[(data['Age']>40) & (data['Age']<=50),'Age']=5\n",
    "data.loc[(data['Age']>50) & (data['Age']<=60),'Age']=6\n",
    "data.loc[data['Age']>60,'Age']=7\n",
    "data['Age'].value_counts()\n",
    "                             "
   ]
  },
  {
   "cell_type": "code",
   "execution_count": null,
   "id": "271197ce",
   "metadata": {},
   "outputs": [],
   "source": [
    "data.head(10)"
   ]
  },
  {
   "cell_type": "markdown",
   "id": "d224acb0",
   "metadata": {},
   "source": [
    "# Creating new features\n",
    "1. Fare per person\n",
    "2. Class times ages of the passangers "
   ]
  },
  {
   "cell_type": "code",
   "execution_count": null,
   "id": "167abf97",
   "metadata": {},
   "outputs": [],
   "source": [
    "#1. Fare per person\n",
    "data['FarePerPerson']=data['Fare']/(data['relatives']+1)\n",
    "data['FarePerPerson']=data['FarePerPerson'].astype(int)\n",
    "data"
   ]
  },
  {
   "cell_type": "code",
   "execution_count": null,
   "id": "02711e1c",
   "metadata": {},
   "outputs": [],
   "source": [
    "#2. Class times the ages of the passangers\n",
    "data['AgeClass']=data['Age']*data['Pclass']\n",
    "data"
   ]
  },
  {
   "cell_type": "code",
   "execution_count": null,
   "id": "5ff855dd",
   "metadata": {},
   "outputs": [],
   "source": [
    "data=data.drop(['Embarked'],axis=1)\n",
    "data"
   ]
  },
  {
   "cell_type": "code",
   "execution_count": null,
   "id": "22fa626a",
   "metadata": {},
   "outputs": [],
   "source": [
    "data=data.drop(['PassengerId'],axis=1)\n",
    "data"
   ]
  },
  {
   "cell_type": "markdown",
   "id": "367a138b",
   "metadata": {},
   "source": [
    "# Modeling the dataset\n",
    "I will training Logistic Regression Machine Learning models"
   ]
  },
  {
   "cell_type": "code",
   "execution_count": null,
   "id": "34dd12a7",
   "metadata": {},
   "outputs": [],
   "source": [
    "x = data.drop('Survived', axis=1)\n",
    "y = data['Survived']\n",
    "x.head()"
   ]
  },
  {
   "cell_type": "code",
   "execution_count": null,
   "id": "c49190da",
   "metadata": {},
   "outputs": [],
   "source": [
    "y.head()"
   ]
  },
  {
   "cell_type": "code",
   "execution_count": null,
   "id": "a6bfa1f9",
   "metadata": {},
   "outputs": [],
   "source": [
    "x_train,x_test,y_train,y_test=model_selection.train_test_split(x,y,test_size=0.2,random_state=1)"
   ]
  },
  {
   "cell_type": "code",
   "execution_count": null,
   "id": "4b97f00b",
   "metadata": {},
   "outputs": [],
   "source": [
    "model=LogisticRegression(solver='liblinear')\n",
    "model.fit(x_train,y_train)"
   ]
  },
  {
   "cell_type": "code",
   "execution_count": null,
   "id": "c7e73dfc",
   "metadata": {},
   "outputs": [],
   "source": [
    "prediction=model.predict(x_test)"
   ]
  },
  {
   "cell_type": "code",
   "execution_count": null,
   "id": "e27549db",
   "metadata": {},
   "outputs": [],
   "source": [
    "report=classification_report(y_test,prediction)\n",
    "print(report)"
   ]
  },
  {
   "cell_type": "code",
   "execution_count": null,
   "id": "09074ae5",
   "metadata": {},
   "outputs": [],
   "source": [
    "print(confusion_matrix(y_test,prediction))"
   ]
  },
  {
   "cell_type": "code",
   "execution_count": null,
   "id": "e574277e",
   "metadata": {},
   "outputs": [],
   "source": [
    "accuracy_score(y_test,prediction)"
   ]
  },
  {
   "cell_type": "code",
   "execution_count": null,
   "id": "faaabdf7",
   "metadata": {},
   "outputs": [],
   "source": []
  }
 ],
 "metadata": {
  "kernelspec": {
   "display_name": "My_env",
   "language": "python",
   "name": "myenv"
  },
  "language_info": {
   "codemirror_mode": {
    "name": "ipython",
    "version": 3
   },
   "file_extension": ".py",
   "mimetype": "text/x-python",
   "name": "python",
   "nbconvert_exporter": "python",
   "pygments_lexer": "ipython3",
   "version": "3.10.9"
  }
 },
 "nbformat": 4,
 "nbformat_minor": 5
}
